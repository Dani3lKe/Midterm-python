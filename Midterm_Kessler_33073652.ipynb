{
 "cells": [
  {
   "attachments": {},
   "cell_type": "markdown",
   "metadata": {},
   "source": [
    "### Midterm Python\n",
    "### Daniel Kessler\n",
    "### 33073652@fsv.cuni.cz"
   ]
  },
  {
   "cell_type": "code",
   "execution_count": 2,
   "metadata": {},
   "outputs": [],
   "source": [
    "\n",
    "import matplotlib.pyplot as plt\n",
    "\n",
    "import requests\n",
    "import json\n",
    "\n",
    "import os\n",
    "import pandas as pd\n",
    "import numpy as np"
   ]
  },
  {
   "attachments": {},
   "cell_type": "markdown",
   "metadata": {},
   "source": [
    "# TASK 1"
   ]
  },
  {
   "attachments": {},
   "cell_type": "markdown",
   "metadata": {},
   "source": [
    "loading the data and creating column with tha name of each company"
   ]
  },
  {
   "cell_type": "code",
   "execution_count": 73,
   "metadata": {},
   "outputs": [
    {
     "name": "stdout",
     "output_type": "stream",
     "text": [
      "            Date        High         Low        Open       Close      Volume  \\\n",
      "0     2017-11-13  166.639999  164.250000  164.639999  165.350006   7189300.0   \n",
      "1     2017-11-14  168.139999  163.149994  163.619995  168.059998  10284000.0   \n",
      "2     2017-11-15  167.440002  165.350006  167.440002  165.470001   5534500.0   \n",
      "3     2017-11-16  167.759995  166.059998  166.679993  167.500000   4587900.0   \n",
      "4     2017-11-17  168.429993  166.059998  167.000000  167.740005   4530100.0   \n",
      "...          ...         ...         ...         ...         ...         ...   \n",
      "1254  2022-11-07  291.700012  282.839996  286.500000  290.269989   3260200.0   \n",
      "1255  2022-11-08  293.339996  287.630005  292.429993  291.140015   3371800.0   \n",
      "1256  2022-11-09  292.500000  286.260010  289.000000  286.750000   3071400.0   \n",
      "1257  2022-11-10  314.739990  297.079987  297.739990  311.700012   7794000.0   \n",
      "1258  2022-11-11  317.679993  310.239990  312.000000  314.940002   4940400.0   \n",
      "\n",
      "       Adj Close Company  \n",
      "0     149.874496      HD  \n",
      "1     152.330826      HD  \n",
      "2     149.983246      HD  \n",
      "3     151.823227      HD  \n",
      "4     152.040817      HD  \n",
      "...          ...     ...  \n",
      "1254  290.269989      HD  \n",
      "1255  291.140015      HD  \n",
      "1256  286.750000      HD  \n",
      "1257  311.700012      HD  \n",
      "1258  314.940002      HD  \n",
      "\n",
      "[1259 rows x 8 columns]\n"
     ]
    }
   ],
   "source": [
    "df_ame = pd.read_csv ('AME.csv')\n",
    "df_aph = pd.read_csv ('APH.csv')\n",
    "df_elv = pd.read_csv ('ELV.csv')\n",
    "df_hd = pd.read_csv ('HD.csv')\n",
    "df_ame[\"Company\"]=\"AME\"\n",
    "df_aph[\"Company\"]=\"APH\"\n",
    "df_elv[\"Company\"]=\"ELV\"\n",
    "df_hd[\"Company\"]=\"HD\"\n",
    "print(df_hd)"
   ]
  },
  {
   "attachments": {},
   "cell_type": "markdown",
   "metadata": {},
   "source": [
    "Creating pandas dataframe"
   ]
  },
  {
   "cell_type": "code",
   "execution_count": 74,
   "metadata": {},
   "outputs": [
    {
     "name": "stdout",
     "output_type": "stream",
     "text": [
      "                  High         Low        Open       Close     Volume  \\\n",
      "Date                                                                    \n",
      "2017-11-13   68.989998   68.029999   68.129997   68.889999  1953500.0   \n",
      "2017-11-14   69.500000   68.629997   68.629997   69.489998  1927400.0   \n",
      "2017-11-15   69.440002   68.639999   69.010002   68.820000  1813800.0   \n",
      "2017-11-16   70.430000   69.000000   69.230003   70.120003  1985100.0   \n",
      "2017-11-17   70.430000   69.690002   69.949997   70.260002  2939400.0   \n",
      "...                ...         ...         ...         ...        ...   \n",
      "2022-11-07  291.700012  282.839996  286.500000  290.269989  3260200.0   \n",
      "2022-11-08  293.339996  287.630005  292.429993  291.140015  3371800.0   \n",
      "2022-11-09  292.500000  286.260010  289.000000  286.750000  3071400.0   \n",
      "2022-11-10  314.739990  297.079987  297.739990  311.700012  7794000.0   \n",
      "2022-11-11  317.679993  310.239990  312.000000  314.940002  4940400.0   \n",
      "\n",
      "             Adj Close Company  \n",
      "Date                            \n",
      "2017-11-13   66.587875     AME  \n",
      "2017-11-14   67.167839     AME  \n",
      "2017-11-15   66.520233     AME  \n",
      "2017-11-16   67.776779     AME  \n",
      "2017-11-17   67.912109     AME  \n",
      "...                ...     ...  \n",
      "2022-11-07  290.269989      HD  \n",
      "2022-11-08  291.140015      HD  \n",
      "2022-11-09  286.750000      HD  \n",
      "2022-11-10  311.700012      HD  \n",
      "2022-11-11  314.940002      HD  \n",
      "\n",
      "[5035 rows x 7 columns]\n"
     ]
    }
   ],
   "source": [
    "df=pd.DataFrame(data=pd.concat([df_ame,df_aph,df_elv,df_hd]))\n",
    "df.set_index(\"Date\",inplace=True)\n",
    "print(df)"
   ]
  },
  {
   "attachments": {},
   "cell_type": "markdown",
   "metadata": {},
   "source": [
    "#### 1.1 I have the company in one name column, nvm"
   ]
  },
  {
   "cell_type": "code",
   "execution_count": 66,
   "metadata": {},
   "outputs": [
    {
     "data": {
      "text/plain": [
       "array(['AME', 'APH', 'ELV', 'HD'], dtype=object)"
      ]
     },
     "execution_count": 66,
     "metadata": {},
     "output_type": "execute_result"
    }
   ],
   "source": [
    "un=df.Company.unique()\n",
    "un"
   ]
  },
  {
   "cell_type": "code",
   "execution_count": 68,
   "metadata": {},
   "outputs": [
    {
     "data": {
      "text/plain": [
       "array([False,  True])"
      ]
     },
     "execution_count": 68,
     "metadata": {},
     "output_type": "execute_result"
    }
   ],
   "source": [
    "un=df.Company.unique()\n",
    "un\n",
    "ame=df_ame[\"Adj Close\"]==df_ame[\"Close\"]\n",
    "ame.unique()"
   ]
  },
  {
   "cell_type": "code",
   "execution_count": 69,
   "metadata": {},
   "outputs": [
    {
     "data": {
      "text/plain": [
       "array([False])"
      ]
     },
     "execution_count": 69,
     "metadata": {},
     "output_type": "execute_result"
    }
   ],
   "source": [
    "aph=df_ame[\"Adj Close\"]==df_aph[\"Close\"]\n",
    "aph.unique()"
   ]
  },
  {
   "cell_type": "code",
   "execution_count": 75,
   "metadata": {},
   "outputs": [
    {
     "data": {
      "text/plain": [
       "array([ True])"
      ]
     },
     "execution_count": 75,
     "metadata": {},
     "output_type": "execute_result"
    }
   ],
   "source": [
    "elv=df_elv[\"Adj Close\"]==df_elv[\"Close\"]\n",
    "elv.unique()"
   ]
  },
  {
   "cell_type": "code",
   "execution_count": 76,
   "metadata": {},
   "outputs": [
    {
     "data": {
      "text/plain": [
       "array([False,  True])"
      ]
     },
     "execution_count": 76,
     "metadata": {},
     "output_type": "execute_result"
    }
   ],
   "source": [
    "hd=df_hd[\"Adj Close\"]==df_hd[\"Close\"]\n",
    "hd.unique()"
   ]
  },
  {
   "attachments": {},
   "cell_type": "markdown",
   "metadata": {},
   "source": [
    "Only for the company ELV, it is the same."
   ]
  },
  {
   "attachments": {},
   "cell_type": "markdown",
   "metadata": {},
   "source": [
    "#### 1.2"
   ]
  },
  {
   "cell_type": "code",
   "execution_count": 77,
   "metadata": {},
   "outputs": [
    {
     "data": {
      "text/html": [
       "<div>\n",
       "<style scoped>\n",
       "    .dataframe tbody tr th:only-of-type {\n",
       "        vertical-align: middle;\n",
       "    }\n",
       "\n",
       "    .dataframe tbody tr th {\n",
       "        vertical-align: top;\n",
       "    }\n",
       "\n",
       "    .dataframe thead th {\n",
       "        text-align: right;\n",
       "    }\n",
       "</style>\n",
       "<table border=\"1\" class=\"dataframe\">\n",
       "  <thead>\n",
       "    <tr style=\"text-align: right;\">\n",
       "      <th></th>\n",
       "      <th>High</th>\n",
       "      <th>Low</th>\n",
       "      <th>Open</th>\n",
       "      <th>Close</th>\n",
       "      <th>Volume</th>\n",
       "      <th>Adj Close</th>\n",
       "    </tr>\n",
       "    <tr>\n",
       "      <th>Company</th>\n",
       "      <th></th>\n",
       "      <th></th>\n",
       "      <th></th>\n",
       "      <th></th>\n",
       "      <th></th>\n",
       "      <th></th>\n",
       "    </tr>\n",
       "  </thead>\n",
       "  <tbody>\n",
       "    <tr>\n",
       "      <th>AME</th>\n",
       "      <td>148.070007</td>\n",
       "      <td>146.369995</td>\n",
       "      <td>147.729996</td>\n",
       "      <td>147.410004</td>\n",
       "      <td>5586200.0</td>\n",
       "      <td>146.637558</td>\n",
       "    </tr>\n",
       "    <tr>\n",
       "      <th>APH</th>\n",
       "      <td>88.449997</td>\n",
       "      <td>86.940002</td>\n",
       "      <td>88.080002</td>\n",
       "      <td>87.940002</td>\n",
       "      <td>9182600.0</td>\n",
       "      <td>87.189758</td>\n",
       "    </tr>\n",
       "    <tr>\n",
       "      <th>ELV</th>\n",
       "      <td>549.520020</td>\n",
       "      <td>538.900024</td>\n",
       "      <td>545.000000</td>\n",
       "      <td>546.770020</td>\n",
       "      <td>7352000.0</td>\n",
       "      <td>546.770020</td>\n",
       "    </tr>\n",
       "    <tr>\n",
       "      <th>HD</th>\n",
       "      <td>420.609985</td>\n",
       "      <td>413.019989</td>\n",
       "      <td>417.000000</td>\n",
       "      <td>416.179993</td>\n",
       "      <td>19752800.0</td>\n",
       "      <td>416.179993</td>\n",
       "    </tr>\n",
       "  </tbody>\n",
       "</table>\n",
       "</div>"
      ],
      "text/plain": [
       "               High         Low        Open       Close      Volume  \\\n",
       "Company                                                               \n",
       "AME      148.070007  146.369995  147.729996  147.410004   5586200.0   \n",
       "APH       88.449997   86.940002   88.080002   87.940002   9182600.0   \n",
       "ELV      549.520020  538.900024  545.000000  546.770020   7352000.0   \n",
       "HD       420.609985  413.019989  417.000000  416.179993  19752800.0   \n",
       "\n",
       "          Adj Close  \n",
       "Company              \n",
       "AME      146.637558  \n",
       "APH       87.189758  \n",
       "ELV      546.770020  \n",
       "HD       416.179993  "
      ]
     },
     "execution_count": 77,
     "metadata": {},
     "output_type": "execute_result"
    }
   ],
   "source": [
    "df.groupby(\"Company\").max()"
   ]
  },
  {
   "attachments": {},
   "cell_type": "markdown",
   "metadata": {},
   "source": [
    "For AME, the highest Adj Close is 146.637558 <br />\n",
    "For APH, the highest Adj Close is 87.189758 <br />\n",
    "For ELV, the highest Adj Close is 546.770020<br />\n",
    "For HD, the highest Adj Close is 416.179993<br />"
   ]
  },
  {
   "cell_type": "code",
   "execution_count": 78,
   "metadata": {},
   "outputs": [
    {
     "data": {
      "text/html": [
       "<div>\n",
       "<style scoped>\n",
       "    .dataframe tbody tr th:only-of-type {\n",
       "        vertical-align: middle;\n",
       "    }\n",
       "\n",
       "    .dataframe tbody tr th {\n",
       "        vertical-align: top;\n",
       "    }\n",
       "\n",
       "    .dataframe thead th {\n",
       "        text-align: right;\n",
       "    }\n",
       "</style>\n",
       "<table border=\"1\" class=\"dataframe\">\n",
       "  <thead>\n",
       "    <tr style=\"text-align: right;\">\n",
       "      <th></th>\n",
       "      <th>High</th>\n",
       "      <th>Low</th>\n",
       "      <th>Open</th>\n",
       "      <th>Close</th>\n",
       "      <th>Volume</th>\n",
       "      <th>Adj Close</th>\n",
       "    </tr>\n",
       "    <tr>\n",
       "      <th>Company</th>\n",
       "      <th></th>\n",
       "      <th></th>\n",
       "      <th></th>\n",
       "      <th></th>\n",
       "      <th></th>\n",
       "      <th></th>\n",
       "    </tr>\n",
       "  </thead>\n",
       "  <tbody>\n",
       "    <tr>\n",
       "      <th>AME</th>\n",
       "      <td>62.900002</td>\n",
       "      <td>54.820000</td>\n",
       "      <td>60.549999</td>\n",
       "      <td>58.209999</td>\n",
       "      <td>180500.0</td>\n",
       "      <td>57.247528</td>\n",
       "    </tr>\n",
       "    <tr>\n",
       "      <th>APH</th>\n",
       "      <td>34.224998</td>\n",
       "      <td>31.525000</td>\n",
       "      <td>32.779999</td>\n",
       "      <td>34.169998</td>\n",
       "      <td>331400.0</td>\n",
       "      <td>33.339298</td>\n",
       "    </tr>\n",
       "    <tr>\n",
       "      <th>ELV</th>\n",
       "      <td>189.580002</td>\n",
       "      <td>171.029999</td>\n",
       "      <td>183.979996</td>\n",
       "      <td>174.679993</td>\n",
       "      <td>224500.0</td>\n",
       "      <td>174.679993</td>\n",
       "    </tr>\n",
       "    <tr>\n",
       "      <th>HD</th>\n",
       "      <td>161.399994</td>\n",
       "      <td>140.630005</td>\n",
       "      <td>150.059998</td>\n",
       "      <td>152.149994</td>\n",
       "      <td>1093900.0</td>\n",
       "      <td>146.575485</td>\n",
       "    </tr>\n",
       "  </tbody>\n",
       "</table>\n",
       "</div>"
      ],
      "text/plain": [
       "               High         Low        Open       Close     Volume   Adj Close\n",
       "Company                                                                       \n",
       "AME       62.900002   54.820000   60.549999   58.209999   180500.0   57.247528\n",
       "APH       34.224998   31.525000   32.779999   34.169998   331400.0   33.339298\n",
       "ELV      189.580002  171.029999  183.979996  174.679993   224500.0  174.679993\n",
       "HD       161.399994  140.630005  150.059998  152.149994  1093900.0  146.575485"
      ]
     },
     "execution_count": 78,
     "metadata": {},
     "output_type": "execute_result"
    }
   ],
   "source": [
    "df.groupby(\"Company\").min()"
   ]
  },
  {
   "attachments": {},
   "cell_type": "markdown",
   "metadata": {},
   "source": [
    "For AME, the lowest Adj Close is 57.247528 <br />\n",
    "For APH, the lowest Adj Close is 33.339298 <br />\n",
    "For ELV, the lowest Adj Close is 174.679993<br />\n",
    "For HD, the lowest Adj Close is 146.575485<br />"
   ]
  },
  {
   "attachments": {},
   "cell_type": "markdown",
   "metadata": {},
   "source": [
    "1.3"
   ]
  },
  {
   "cell_type": "code",
   "execution_count": 84,
   "metadata": {},
   "outputs": [
    {
     "ename": "AttributeError",
     "evalue": "'Series' object has no attribute 'log'",
     "output_type": "error",
     "traceback": [
      "\u001b[1;31m---------------------------------------------------------------------------\u001b[0m",
      "\u001b[1;31mAttributeError\u001b[0m                            Traceback (most recent call last)",
      "Cell \u001b[1;32mIn[84], line 1\u001b[0m\n\u001b[1;32m----> 1\u001b[0m df[\u001b[39m\"\u001b[39m\u001b[39mLofAC\u001b[39m\u001b[39m\"\u001b[39m]\u001b[39m=\u001b[39mdf[\u001b[39m\"\u001b[39;49m\u001b[39mAdj Close\u001b[39;49m\u001b[39m\"\u001b[39;49m]\u001b[39m.\u001b[39;49mlog()\n",
      "File \u001b[1;32mc:\\Users\\Asus\\AppData\\Local\\Programs\\Python\\Python38\\lib\\site-packages\\pandas\\core\\generic.py:5902\u001b[0m, in \u001b[0;36mNDFrame.__getattr__\u001b[1;34m(self, name)\u001b[0m\n\u001b[0;32m   5895\u001b[0m \u001b[39mif\u001b[39;00m (\n\u001b[0;32m   5896\u001b[0m     name \u001b[39mnot\u001b[39;00m \u001b[39min\u001b[39;00m \u001b[39mself\u001b[39m\u001b[39m.\u001b[39m_internal_names_set\n\u001b[0;32m   5897\u001b[0m     \u001b[39mand\u001b[39;00m name \u001b[39mnot\u001b[39;00m \u001b[39min\u001b[39;00m \u001b[39mself\u001b[39m\u001b[39m.\u001b[39m_metadata\n\u001b[0;32m   5898\u001b[0m     \u001b[39mand\u001b[39;00m name \u001b[39mnot\u001b[39;00m \u001b[39min\u001b[39;00m \u001b[39mself\u001b[39m\u001b[39m.\u001b[39m_accessors\n\u001b[0;32m   5899\u001b[0m     \u001b[39mand\u001b[39;00m \u001b[39mself\u001b[39m\u001b[39m.\u001b[39m_info_axis\u001b[39m.\u001b[39m_can_hold_identifiers_and_holds_name(name)\n\u001b[0;32m   5900\u001b[0m ):\n\u001b[0;32m   5901\u001b[0m     \u001b[39mreturn\u001b[39;00m \u001b[39mself\u001b[39m[name]\n\u001b[1;32m-> 5902\u001b[0m \u001b[39mreturn\u001b[39;00m \u001b[39mobject\u001b[39;49m\u001b[39m.\u001b[39;49m\u001b[39m__getattribute__\u001b[39;49m(\u001b[39mself\u001b[39;49m, name)\n",
      "\u001b[1;31mAttributeError\u001b[0m: 'Series' object has no attribute 'log'"
     ]
    }
   ],
   "source": [
    "df[\"LofAC\"]=df[\"Adj Close\"].log()"
   ]
  },
  {
   "attachments": {},
   "cell_type": "markdown",
   "metadata": {},
   "source": [
    "1.4"
   ]
  },
  {
   "cell_type": "code",
   "execution_count": 79,
   "metadata": {},
   "outputs": [
    {
     "data": {
      "text/html": [
       "<div>\n",
       "<style scoped>\n",
       "    .dataframe tbody tr th:only-of-type {\n",
       "        vertical-align: middle;\n",
       "    }\n",
       "\n",
       "    .dataframe tbody tr th {\n",
       "        vertical-align: top;\n",
       "    }\n",
       "\n",
       "    .dataframe thead th {\n",
       "        text-align: right;\n",
       "    }\n",
       "</style>\n",
       "<table border=\"1\" class=\"dataframe\">\n",
       "  <thead>\n",
       "    <tr style=\"text-align: right;\">\n",
       "      <th></th>\n",
       "      <th>High</th>\n",
       "      <th>Low</th>\n",
       "      <th>Open</th>\n",
       "      <th>Close</th>\n",
       "      <th>Volume</th>\n",
       "      <th>Adj Close</th>\n",
       "    </tr>\n",
       "    <tr>\n",
       "      <th>Company</th>\n",
       "      <th></th>\n",
       "      <th></th>\n",
       "      <th></th>\n",
       "      <th></th>\n",
       "      <th></th>\n",
       "      <th></th>\n",
       "    </tr>\n",
       "  </thead>\n",
       "  <tbody>\n",
       "    <tr>\n",
       "      <th>AME</th>\n",
       "      <td>2021-12-29</td>\n",
       "      <td>2021-12-30</td>\n",
       "      <td>2021-12-30</td>\n",
       "      <td>2021-12-29</td>\n",
       "      <td>2020-06-26</td>\n",
       "      <td>2021-12-29</td>\n",
       "    </tr>\n",
       "    <tr>\n",
       "      <th>APH</th>\n",
       "      <td>2021-12-30</td>\n",
       "      <td>2021-12-31</td>\n",
       "      <td>2021-12-30</td>\n",
       "      <td>2021-12-29</td>\n",
       "      <td>2017-11-30</td>\n",
       "      <td>2021-12-29</td>\n",
       "    </tr>\n",
       "    <tr>\n",
       "      <th>ELV</th>\n",
       "      <td>2022-10-31</td>\n",
       "      <td>2022-10-31</td>\n",
       "      <td>2022-11-01</td>\n",
       "      <td>2022-10-31</td>\n",
       "      <td>2019-04-12</td>\n",
       "      <td>2022-10-31</td>\n",
       "    </tr>\n",
       "    <tr>\n",
       "      <th>HD</th>\n",
       "      <td>2021-12-06</td>\n",
       "      <td>2021-12-07</td>\n",
       "      <td>2021-12-07</td>\n",
       "      <td>2021-12-07</td>\n",
       "      <td>2022-02-22</td>\n",
       "      <td>2021-12-07</td>\n",
       "    </tr>\n",
       "  </tbody>\n",
       "</table>\n",
       "</div>"
      ],
      "text/plain": [
       "               High         Low        Open       Close      Volume  \\\n",
       "Company                                                               \n",
       "AME      2021-12-29  2021-12-30  2021-12-30  2021-12-29  2020-06-26   \n",
       "APH      2021-12-30  2021-12-31  2021-12-30  2021-12-29  2017-11-30   \n",
       "ELV      2022-10-31  2022-10-31  2022-11-01  2022-10-31  2019-04-12   \n",
       "HD       2021-12-06  2021-12-07  2021-12-07  2021-12-07  2022-02-22   \n",
       "\n",
       "          Adj Close  \n",
       "Company              \n",
       "AME      2021-12-29  \n",
       "APH      2021-12-29  \n",
       "ELV      2022-10-31  \n",
       "HD       2021-12-07  "
      ]
     },
     "execution_count": 79,
     "metadata": {},
     "output_type": "execute_result"
    }
   ],
   "source": [
    "df.groupby(\"Company\").idxmax()"
   ]
  },
  {
   "attachments": {},
   "cell_type": "markdown",
   "metadata": {},
   "source": [
    "For AME, the lowest Adj Close is 57.247528 <br />\n",
    "For APH, the lowest Adj Close is 33.339298 <br />\n",
    "For ELV, the lowest Adj Close is 174.679993<br />\n",
    "For HD, the lowest Adj Close is 146.575485<br />"
   ]
  },
  {
   "cell_type": "code",
   "execution_count": 80,
   "metadata": {},
   "outputs": [
    {
     "data": {
      "text/html": [
       "<div>\n",
       "<style scoped>\n",
       "    .dataframe tbody tr th:only-of-type {\n",
       "        vertical-align: middle;\n",
       "    }\n",
       "\n",
       "    .dataframe tbody tr th {\n",
       "        vertical-align: top;\n",
       "    }\n",
       "\n",
       "    .dataframe thead th {\n",
       "        text-align: right;\n",
       "    }\n",
       "</style>\n",
       "<table border=\"1\" class=\"dataframe\">\n",
       "  <thead>\n",
       "    <tr style=\"text-align: right;\">\n",
       "      <th></th>\n",
       "      <th>High</th>\n",
       "      <th>Low</th>\n",
       "      <th>Open</th>\n",
       "      <th>Close</th>\n",
       "      <th>Volume</th>\n",
       "      <th>Adj Close</th>\n",
       "    </tr>\n",
       "    <tr>\n",
       "      <th>Company</th>\n",
       "      <th></th>\n",
       "      <th></th>\n",
       "      <th></th>\n",
       "      <th></th>\n",
       "      <th></th>\n",
       "      <th></th>\n",
       "    </tr>\n",
       "  </thead>\n",
       "  <tbody>\n",
       "    <tr>\n",
       "      <th>AME</th>\n",
       "      <td>2020-03-23</td>\n",
       "      <td>2020-03-18</td>\n",
       "      <td>2020-03-18</td>\n",
       "      <td>2020-03-23</td>\n",
       "      <td>2019-12-24</td>\n",
       "      <td>2020-03-23</td>\n",
       "    </tr>\n",
       "    <tr>\n",
       "      <th>APH</th>\n",
       "      <td>2020-03-18</td>\n",
       "      <td>2020-03-18</td>\n",
       "      <td>2020-03-18</td>\n",
       "      <td>2020-03-16</td>\n",
       "      <td>2019-12-24</td>\n",
       "      <td>2020-03-16</td>\n",
       "    </tr>\n",
       "    <tr>\n",
       "      <th>ELV</th>\n",
       "      <td>2020-03-23</td>\n",
       "      <td>2020-03-23</td>\n",
       "      <td>2020-03-24</td>\n",
       "      <td>2020-03-23</td>\n",
       "      <td>2020-12-24</td>\n",
       "      <td>2020-03-23</td>\n",
       "    </tr>\n",
       "    <tr>\n",
       "      <th>HD</th>\n",
       "      <td>2018-12-24</td>\n",
       "      <td>2020-03-18</td>\n",
       "      <td>2020-03-23</td>\n",
       "      <td>2020-03-20</td>\n",
       "      <td>2020-12-24</td>\n",
       "      <td>2020-03-20</td>\n",
       "    </tr>\n",
       "  </tbody>\n",
       "</table>\n",
       "</div>"
      ],
      "text/plain": [
       "               High         Low        Open       Close      Volume  \\\n",
       "Company                                                               \n",
       "AME      2020-03-23  2020-03-18  2020-03-18  2020-03-23  2019-12-24   \n",
       "APH      2020-03-18  2020-03-18  2020-03-18  2020-03-16  2019-12-24   \n",
       "ELV      2020-03-23  2020-03-23  2020-03-24  2020-03-23  2020-12-24   \n",
       "HD       2018-12-24  2020-03-18  2020-03-23  2020-03-20  2020-12-24   \n",
       "\n",
       "          Adj Close  \n",
       "Company              \n",
       "AME      2020-03-23  \n",
       "APH      2020-03-16  \n",
       "ELV      2020-03-23  \n",
       "HD       2020-03-20  "
      ]
     },
     "execution_count": 80,
     "metadata": {},
     "output_type": "execute_result"
    }
   ],
   "source": [
    "df.groupby(\"Company\").idxmin()"
   ]
  },
  {
   "cell_type": "markdown",
   "metadata": {},
   "source": []
  }
 ],
 "metadata": {
  "kernelspec": {
   "display_name": "Python 3",
   "language": "python",
   "name": "python3"
  },
  "language_info": {
   "codemirror_mode": {
    "name": "ipython",
    "version": 3
   },
   "file_extension": ".py",
   "mimetype": "text/x-python",
   "name": "python",
   "nbconvert_exporter": "python",
   "pygments_lexer": "ipython3",
   "version": "3.8.5"
  },
  "orig_nbformat": 4
 },
 "nbformat": 4,
 "nbformat_minor": 2
}
